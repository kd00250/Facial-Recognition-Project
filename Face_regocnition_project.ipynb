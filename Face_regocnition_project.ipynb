{
  "nbformat": 4,
  "nbformat_minor": 0,
  "metadata": {
    "colab": {
      "provenance": []
    },
    "kernelspec": {
      "name": "python3",
      "display_name": "Python 3"
    },
    "language_info": {
      "name": "python"
    }
  },
  "cells": [
    {
      "cell_type": "markdown",
      "source": [
        "Extract and arrange the dataset"
      ],
      "metadata": {
        "id": "N3bbVwCN1NA-"
      }
    },
    {
      "cell_type": "code",
      "execution_count": null,
      "metadata": {
        "colab": {
          "base_uri": "https://localhost:8080/"
        },
        "id": "_OoXCNV5wtDl",
        "outputId": "7d3da4d1-1301-422a-bcd3-cf917134a34f"
      },
      "outputs": [
        {
          "output_type": "stream",
          "name": "stdout",
          "text": [
            "Extracting zip file...\n",
            "Extraction completed. Files extracted into: Faces_unorganized\n",
            "Arranging files into structured folders...\n",
            "Dataset arranged in folder: Faces\n"
          ]
        }
      ],
      "source": [
        "import os\n",
        "import zipfile\n",
        "import shutil\n",
        "import re\n",
        "\n",
        "zip_file = \"Faces.zip\"  # Ensure this is uploaded to your Colab environment.\n",
        "extracted_folder = \"Faces_unorganized\"\n",
        "structured_folder = \"Faces\"\n",
        "\n",
        "# Step 1: Extract the zip file\n",
        "print(\"Extracting zip file...\")\n",
        "with zipfile.ZipFile(zip_file, 'r') as zip_ref:\n",
        "    zip_ref.extractall(extracted_folder)\n",
        "print(\"Extraction completed. Files extracted into:\", extracted_folder)\n",
        "\n",
        "# Step 2: Arrange images into structured folders.\n",
        "print(\"Arranging files into structured folders...\")\n",
        "os.makedirs(structured_folder, exist_ok=True)\n",
        "\n",
        "# Recursively walk through the extracted folder\n",
        "for root, dirs, files in os.walk(extracted_folder):\n",
        "    for filename in files:\n",
        "        if filename.lower().endswith(('.png', '.jpg', '.jpeg')):\n",
        "            # Extract label: everything before the underscore followed by digits.\n",
        "            match = re.match(r'^(.*?)_\\d+', filename)\n",
        "            if match:\n",
        "                label = match.group(1)\n",
        "            else:\n",
        "                label = os.path.splitext(filename)[0]\n",
        "\n",
        "            # Create a subfolder for this label if it doesn't exist.\n",
        "            label_dir = os.path.join(structured_folder, label)\n",
        "            os.makedirs(label_dir, exist_ok=True)\n",
        "\n",
        "            # Define source and destination paths.\n",
        "            src = os.path.join(root, filename)\n",
        "            dst = os.path.join(label_dir, filename)\n",
        "\n",
        "            #print(f\"Moving file {src} to {dst}\")\n",
        "            shutil.move(src, dst)\n",
        "\n",
        "print(\"Dataset arranged in folder:\", structured_folder)\n"
      ]
    },
    {
      "cell_type": "markdown",
      "source": [
        "Define data transformations. Load the dataset from the arranged folder.Split the dataset into training and validation sets. Create DataLoaders for both sets."
      ],
      "metadata": {
        "id": "ti_Q0t9H1mxy"
      }
    },
    {
      "cell_type": "code",
      "source": [
        "import torch\n",
        "from torchvision import datasets, transforms\n",
        "from torch.utils.data import DataLoader, random_split\n",
        "\n",
        "# Define transformations: resize images, convert to tensor, and normalize.\n",
        "data_transforms = transforms.Compose([\n",
        "    transforms.Resize((128, 128)),      # Resize all images to 128x128 pixels.\n",
        "    transforms.ToTensor(),              # Convert images to PyTorch tensors.\n",
        "    transforms.Normalize([0.5, 0.5, 0.5], [0.5, 0.5, 0.5])  # Normalize for 3-channel images.\n",
        "])\n",
        "\n",
        "# Load the dataset from the arranged folder \"Faces\".\n",
        "data_dir = \"Faces\"  # Make sure this folder is in your Colab working directory.\n",
        "dataset = datasets.ImageFolder(root=data_dir, transform=data_transforms)\n",
        "print(\"Classes found:\", dataset.classes)\n",
        "\n",
        "# Split the dataset into training and validation sets (80-20 split).\n",
        "train_size = int(0.8 * len(dataset))\n",
        "val_size = len(dataset) - train_size\n",
        "train_dataset, val_dataset = random_split(dataset, [train_size, val_size])\n",
        "print(f\"Training samples: {len(train_dataset)}, Validation samples: {len(val_dataset)}\")\n",
        "\n",
        "# Create DataLoaders for training and validation.\n",
        "batch_size = 32  # Adjust the batch size if needed.\n",
        "train_loader = DataLoader(train_dataset, batch_size=batch_size, shuffle=True)\n",
        "val_loader = DataLoader(val_dataset, batch_size=batch_size, shuffle=False)\n",
        "\n",
        "# Display one batch of images and labels for verification.\n",
        "dataiter = iter(train_loader)\n",
        "images, labels = next(dataiter)\n",
        "print(\"Batch image tensor shape:\", images.shape)\n",
        "print(\"Batch labels:\", labels)"
      ],
      "metadata": {
        "colab": {
          "base_uri": "https://localhost:8080/"
        },
        "id": "QEcuABmh1-77",
        "outputId": "2380e586-f3d8-43f7-f273-9b4e54e60718"
      },
      "execution_count": null,
      "outputs": [
        {
          "output_type": "stream",
          "name": "stdout",
          "text": [
            "Classes found: ['Akshay Kumar', 'Alexandra Daddario', 'Alia Bhatt', 'Amitabh Bachchan', 'Andy Samberg', 'Anushka Sharma', 'Billie Eilish', 'Brad Pitt', 'Camila Cabello', 'Charlize Theron', 'Claire Holt', 'Courtney Cox', 'Dwayne Johnson', 'Elizabeth Olsen', 'Ellen Degeneres', 'Henry Cavill', 'Hrithik Roshan', 'Hugh Jackman', 'Jessica Alba', 'Kashyap', 'Lisa Kudrow', 'Margot Robbie', 'Marmik', 'Natalie Portman', 'Priyanka Chopra', 'Robert Downey Jr', 'Roger Federer', 'Tom Cruise', 'Vijay Deverakonda', 'Virat Kohli', 'Zac Efron']\n",
            "Training samples: 2049, Validation samples: 513\n",
            "Batch image tensor shape: torch.Size([32, 3, 128, 128])\n",
            "Batch labels: tensor([18, 30,  7, 17,  8,  7, 18, 23, 12, 24, 27, 18,  7, 27, 30,  6,  4, 15,\n",
            "        28, 12, 29,  9,  4, 17, 15, 27, 24,  3, 15, 18, 13, 24])\n"
          ]
        }
      ]
    },
    {
      "cell_type": "code",
      "source": [
        "import torch\n",
        "import torch.nn as nn\n",
        "import torch.nn.functional as F\n",
        "\n",
        "class FaceCNN(nn.Module):\n",
        "    def __init__(self, num_classes, input_channels=3, input_height=128, input_width=128):\n",
        "        super(FaceCNN, self).__init__()\n",
        "        self.num_pool_layers = 4  # We will use 4 pooling operations (each halves H & W)\n",
        "\n",
        "        # Convolutional Block 1\n",
        "        self.conv1 = nn.Conv2d(input_channels, 32, kernel_size=3, padding=1)\n",
        "        self.bn1 = nn.BatchNorm2d(32)\n",
        "\n",
        "        # Convolutional Block 2\n",
        "        self.conv2 = nn.Conv2d(32, 64, kernel_size=3, padding=1)\n",
        "        self.bn2 = nn.BatchNorm2d(64)\n",
        "\n",
        "        # Convolutional Block 3\n",
        "        self.conv3 = nn.Conv2d(64, 128, kernel_size=3, padding=1)\n",
        "        self.bn3 = nn.BatchNorm2d(128)\n",
        "\n",
        "        # Convolutional Block 4\n",
        "        self.conv4 = nn.Conv2d(128, 256, kernel_size=3, padding=1)\n",
        "        self.bn4 = nn.BatchNorm2d(256)\n",
        "\n",
        "        self.pool = nn.MaxPool2d(2, 2)\n",
        "\n",
        "        # Compute the size of the feature map after the pooling layers\n",
        "        final_height = input_height // (2 ** self.num_pool_layers)\n",
        "        final_width = input_width // (2 ** self.num_pool_layers)\n",
        "        fc_input_dim = 256 * final_height * final_width\n",
        "\n",
        "        # Fully Connected Layers\n",
        "        self.fc1 = nn.Linear(fc_input_dim, 512)\n",
        "        self.dropout = nn.Dropout(0.5)\n",
        "        self.fc2 = nn.Linear(512, num_classes)\n",
        "\n",
        "    def forward(self, x):\n",
        "        # Convolutional Blocks with pooling\n",
        "        x = self.pool(F.relu(self.bn1(self.conv1(x))))\n",
        "        x = self.pool(F.relu(self.bn2(self.conv2(x))))\n",
        "        x = self.pool(F.relu(self.bn3(self.conv3(x))))\n",
        "        x = self.pool(F.relu(self.bn4(self.conv4(x))))\n",
        "        # Flatten feature maps\n",
        "        x = x.view(x.size(0), -1)\n",
        "        # Fully Connected Layers\n",
        "        x = F.relu(self.fc1(x))\n",
        "        x = self.dropout(x)\n",
        "        x = self.fc2(x)\n",
        "        return x\n",
        "\n",
        "# Example of how to instantiate the model dynamically:\n",
        "# Get a sample batch from your train_loader to extract input dimensions.\n",
        "sample_images, _ = next(iter(train_loader))\n",
        "input_channels = sample_images.shape[1]\n",
        "input_height = sample_images.shape[2]\n",
        "input_width = sample_images.shape[3]\n",
        "\n",
        "# Dynamically determine the number of classes from your dataset.\n",
        "num_classes = len(dataset.classes)\n",
        "\n",
        "# Create the model instance with dynamic parameters.\n",
        "model = FaceCNN(num_classes=num_classes, input_channels=input_channels,\n",
        "                input_height=input_height, input_width=input_width)\n",
        "\n",
        "# Move the model to GPU if available.\n",
        "device = torch.device(\"cuda\" if torch.cuda.is_available() else \"cpu\")\n",
        "model = model.to(device)\n",
        "\n",
        "#print(model)"
      ],
      "metadata": {
        "id": "4jk6a2MD37pG"
      },
      "execution_count": null,
      "outputs": []
    },
    {
      "cell_type": "code",
      "source": [
        "import time\n",
        "import torch\n",
        "import torch.nn as nn\n",
        "import torch.optim as optim\n",
        "from tqdm import tqdm\n",
        "\n",
        "# Make sure that the following variables are defined:\n",
        "# model, train_loader, val_loader, train_dataset, val_dataset, device, num_classes\n",
        "# Also define your loss function and optimizer, for example:\n",
        "# criterion = nn.CrossEntropyLoss()\n",
        "# optimizer = optim.Adam(model.parameters(), lr=0.001, weight_decay=1e-5)\n",
        "\n",
        "# Use a learning rate scheduler to reduce the learning rate when validation loss plateaus.\n",
        "scheduler = optim.lr_scheduler.ReduceLROnPlateau(optimizer, mode='min', factor=0.5, patience=3)\n",
        "\n",
        "best_val_loss = float('inf')\n",
        "num_epochs = 10  # Adjust as needed\n",
        "\n",
        "# Early stopping parameters\n",
        "early_stop_patience = 5\n",
        "epochs_no_improve = 0\n",
        "\n",
        "# Logging history for later analysis (optional)\n",
        "train_losses = []\n",
        "val_losses = []\n",
        "train_accuracies = []\n",
        "val_accuracies = []\n",
        "\n",
        "for epoch in range(num_epochs):\n",
        "    epoch_start_time = time.time()\n",
        "\n",
        "    # ----- Training Phase -----\n",
        "    model.train()\n",
        "    running_loss = 0.0\n",
        "    correct = 0\n",
        "    total = 0\n",
        "\n",
        "    train_bar = tqdm(train_loader, desc=f\"Epoch {epoch+1}/{num_epochs} - Training\")\n",
        "    for images, labels in train_bar:\n",
        "        images, labels = images.to(device), labels.to(device)\n",
        "        optimizer.zero_grad()\n",
        "\n",
        "        outputs = model(images)\n",
        "        loss = criterion(outputs, labels)\n",
        "        loss.backward()\n",
        "\n",
        "        # Clip gradients to help with stability\n",
        "        torch.nn.utils.clip_grad_norm_(model.parameters(), max_norm=2.0)\n",
        "\n",
        "        optimizer.step()\n",
        "\n",
        "        running_loss += loss.item() * images.size(0)\n",
        "        _, predicted = torch.max(outputs.data, 1)\n",
        "        total += labels.size(0)\n",
        "        correct += (predicted == labels).sum().item()\n",
        "\n",
        "        train_bar.set_postfix(loss=loss.item())\n",
        "\n",
        "    epoch_loss = running_loss / len(train_dataset)\n",
        "    epoch_accuracy = 100 * correct / total\n",
        "    train_losses.append(epoch_loss)\n",
        "    train_accuracies.append(epoch_accuracy)\n",
        "\n",
        "    print(f\"\\nEpoch [{epoch+1}/{num_epochs}] Training Loss: {epoch_loss:.4f}, Accuracy: {epoch_accuracy:.2f}%\")\n",
        "\n",
        "    # ----- Validation Phase -----\n",
        "    model.eval()\n",
        "    val_loss = 0.0\n",
        "    correct_val = 0\n",
        "    total_val = 0\n",
        "\n",
        "    val_bar = tqdm(val_loader, desc=f\"Epoch {epoch+1}/{num_epochs} - Validation\")\n",
        "    with torch.no_grad():\n",
        "        for images, labels in val_bar:\n",
        "            images, labels = images.to(device), labels.to(device)\n",
        "            outputs = model(images)\n",
        "            loss = criterion(outputs, labels)\n",
        "            val_loss += loss.item() * images.size(0)\n",
        "\n",
        "            _, predicted = torch.max(outputs.data, 1)\n",
        "            total_val += labels.size(0)\n",
        "            correct_val += (predicted == labels).sum().item()\n",
        "            val_bar.set_postfix(loss=loss.item())\n",
        "\n",
        "    val_loss = val_loss / len(val_dataset)\n",
        "    val_accuracy = 100 * correct_val / total_val\n",
        "    val_losses.append(val_loss)\n",
        "    val_accuracies.append(val_accuracy)\n",
        "\n",
        "    print(f\"Epoch [{epoch+1}/{num_epochs}] Validation Loss: {val_loss:.4f}, Accuracy: {val_accuracy:.2f}%\")\n",
        "\n",
        "    # Step the scheduler using validation loss\n",
        "    scheduler.step(val_loss)\n",
        "\n",
        "    # Log current learning rate\n",
        "    current_lr = optimizer.param_groups[0]['lr']\n",
        "    print(f\"Current Learning Rate: {current_lr}\")\n",
        "\n",
        "    # Save the best model based on validation loss\n",
        "    if val_loss < best_val_loss:\n",
        "        best_val_loss = val_loss\n",
        "        torch.save(model.state_dict(), 'best_model.pth')\n",
        "        print(\"Model checkpoint saved!\")\n",
        "        epochs_no_improve = 0\n",
        "    else:\n",
        "        epochs_no_improve += 1\n",
        "\n",
        "    # Early stopping check\n",
        "    if epochs_no_improve >= early_stop_patience:\n",
        "        print(\"Early stopping triggered.\")\n",
        "        break\n",
        "\n",
        "    epoch_duration = time.time() - epoch_start_time\n",
        "    print(f\"Epoch duration: {epoch_duration:.2f} seconds\\n\")\n"
      ],
      "metadata": {
        "colab": {
          "base_uri": "https://localhost:8080/"
        },
        "id": "ublG6WYsehxd",
        "outputId": "1a99a382-e190-433f-92ba-29b90b47e0f5"
      },
      "execution_count": null,
      "outputs": [
        {
          "output_type": "stream",
          "name": "stderr",
          "text": [
            "Epoch 1/10 - Training: 100%|██████████| 65/65 [01:47<00:00,  1.65s/it, loss=3.91]\n"
          ]
        },
        {
          "output_type": "stream",
          "name": "stdout",
          "text": [
            "\n",
            "Epoch [1/10] Training Loss: 2.4775, Accuracy: 71.74%\n"
          ]
        },
        {
          "output_type": "stream",
          "name": "stderr",
          "text": [
            "Epoch 1/10 - Validation: 100%|██████████| 17/17 [00:16<00:00,  1.04it/s, loss=0.708]\n"
          ]
        },
        {
          "output_type": "stream",
          "name": "stdout",
          "text": [
            "Epoch [1/10] Validation Loss: 0.7561, Accuracy: 88.11%\n",
            "Current Learning Rate: 5e-05\n",
            "Model checkpoint saved!\n",
            "Epoch duration: 123.96 seconds\n",
            "\n"
          ]
        },
        {
          "output_type": "stream",
          "name": "stderr",
          "text": [
            "Epoch 2/10 - Training: 100%|██████████| 65/65 [01:46<00:00,  1.64s/it, loss=3.94]\n"
          ]
        },
        {
          "output_type": "stream",
          "name": "stdout",
          "text": [
            "\n",
            "Epoch [2/10] Training Loss: 0.0766, Accuracy: 99.90%\n"
          ]
        },
        {
          "output_type": "stream",
          "name": "stderr",
          "text": [
            "Epoch 2/10 - Validation: 100%|██████████| 17/17 [00:16<00:00,  1.05it/s, loss=0.626]\n"
          ]
        },
        {
          "output_type": "stream",
          "name": "stdout",
          "text": [
            "Epoch [2/10] Validation Loss: 0.4417, Accuracy: 91.42%\n",
            "Current Learning Rate: 5e-05\n",
            "Model checkpoint saved!\n",
            "Epoch duration: 122.60 seconds\n",
            "\n"
          ]
        },
        {
          "output_type": "stream",
          "name": "stderr",
          "text": [
            "Epoch 3/10 - Training: 100%|██████████| 65/65 [01:46<00:00,  1.63s/it, loss=3.86]\n"
          ]
        },
        {
          "output_type": "stream",
          "name": "stdout",
          "text": [
            "\n",
            "Epoch [3/10] Training Loss: 0.0207, Accuracy: 99.95%\n"
          ]
        },
        {
          "output_type": "stream",
          "name": "stderr",
          "text": [
            "Epoch 3/10 - Validation: 100%|██████████| 17/17 [00:16<00:00,  1.02it/s, loss=0.401]\n"
          ]
        },
        {
          "output_type": "stream",
          "name": "stdout",
          "text": [
            "Epoch [3/10] Validation Loss: 0.3788, Accuracy: 92.98%\n",
            "Current Learning Rate: 5e-05\n",
            "Model checkpoint saved!\n",
            "Epoch duration: 122.92 seconds\n",
            "\n"
          ]
        },
        {
          "output_type": "stream",
          "name": "stderr",
          "text": [
            "Epoch 4/10 - Training: 100%|██████████| 65/65 [01:46<00:00,  1.64s/it, loss=3.89]\n"
          ]
        },
        {
          "output_type": "stream",
          "name": "stdout",
          "text": [
            "\n",
            "Epoch [4/10] Training Loss: 0.0127, Accuracy: 99.95%\n"
          ]
        },
        {
          "output_type": "stream",
          "name": "stderr",
          "text": [
            "Epoch 4/10 - Validation: 100%|██████████| 17/17 [00:16<00:00,  1.05it/s, loss=0.556]\n"
          ]
        },
        {
          "output_type": "stream",
          "name": "stdout",
          "text": [
            "Epoch [4/10] Validation Loss: 0.3801, Accuracy: 92.01%\n",
            "Current Learning Rate: 5e-05\n",
            "Epoch duration: 123.08 seconds\n",
            "\n"
          ]
        },
        {
          "output_type": "stream",
          "name": "stderr",
          "text": [
            "Epoch 5/10 - Training: 100%|██████████| 65/65 [01:44<00:00,  1.62s/it, loss=3.83]\n"
          ]
        },
        {
          "output_type": "stream",
          "name": "stdout",
          "text": [
            "\n",
            "Epoch [5/10] Training Loss: 0.0106, Accuracy: 99.95%\n"
          ]
        },
        {
          "output_type": "stream",
          "name": "stderr",
          "text": [
            "Epoch 5/10 - Validation: 100%|██████████| 17/17 [00:17<00:00,  1.01s/it, loss=0.455]\n"
          ]
        },
        {
          "output_type": "stream",
          "name": "stdout",
          "text": [
            "Epoch [5/10] Validation Loss: 0.3470, Accuracy: 92.40%\n",
            "Current Learning Rate: 5e-05\n",
            "Model checkpoint saved!\n",
            "Epoch duration: 122.21 seconds\n",
            "\n"
          ]
        },
        {
          "output_type": "stream",
          "name": "stderr",
          "text": [
            "Epoch 6/10 - Training: 100%|██████████| 65/65 [01:45<00:00,  1.63s/it, loss=3.97]\n"
          ]
        },
        {
          "output_type": "stream",
          "name": "stdout",
          "text": [
            "\n",
            "Epoch [6/10] Training Loss: 0.0087, Accuracy: 99.95%\n"
          ]
        },
        {
          "output_type": "stream",
          "name": "stderr",
          "text": [
            "Epoch 6/10 - Validation: 100%|██████████| 17/17 [00:16<00:00,  1.05it/s, loss=0.286]\n"
          ]
        },
        {
          "output_type": "stream",
          "name": "stdout",
          "text": [
            "Epoch [6/10] Validation Loss: 0.3387, Accuracy: 92.20%\n",
            "Current Learning Rate: 5e-05\n",
            "Model checkpoint saved!\n",
            "Epoch duration: 122.09 seconds\n",
            "\n"
          ]
        },
        {
          "output_type": "stream",
          "name": "stderr",
          "text": [
            "Epoch 7/10 - Training: 100%|██████████| 65/65 [01:47<00:00,  1.65s/it, loss=4.67]\n"
          ]
        },
        {
          "output_type": "stream",
          "name": "stdout",
          "text": [
            "\n",
            "Epoch [7/10] Training Loss: 0.0078, Accuracy: 99.95%\n"
          ]
        },
        {
          "output_type": "stream",
          "name": "stderr",
          "text": [
            "Epoch 7/10 - Validation: 100%|██████████| 17/17 [00:16<00:00,  1.05it/s, loss=0.341]\n"
          ]
        },
        {
          "output_type": "stream",
          "name": "stdout",
          "text": [
            "Epoch [7/10] Validation Loss: 0.3395, Accuracy: 92.59%\n",
            "Current Learning Rate: 5e-05\n",
            "Epoch duration: 123.80 seconds\n",
            "\n"
          ]
        },
        {
          "output_type": "stream",
          "name": "stderr",
          "text": [
            "Epoch 8/10 - Training: 100%|██████████| 65/65 [01:46<00:00,  1.63s/it, loss=3.65]\n"
          ]
        },
        {
          "output_type": "stream",
          "name": "stdout",
          "text": [
            "\n",
            "Epoch [8/10] Training Loss: 0.0064, Accuracy: 99.95%\n"
          ]
        },
        {
          "output_type": "stream",
          "name": "stderr",
          "text": [
            "Epoch 8/10 - Validation: 100%|██████████| 17/17 [00:17<00:00,  1.01s/it, loss=0.689]\n"
          ]
        },
        {
          "output_type": "stream",
          "name": "stdout",
          "text": [
            "Epoch [8/10] Validation Loss: 0.3557, Accuracy: 91.62%\n",
            "Current Learning Rate: 5e-05\n",
            "Epoch duration: 123.31 seconds\n",
            "\n"
          ]
        },
        {
          "output_type": "stream",
          "name": "stderr",
          "text": [
            "Epoch 9/10 - Training: 100%|██████████| 65/65 [01:46<00:00,  1.64s/it, loss=3.43]\n"
          ]
        },
        {
          "output_type": "stream",
          "name": "stdout",
          "text": [
            "\n",
            "Epoch [9/10] Training Loss: 0.0058, Accuracy: 99.95%\n"
          ]
        },
        {
          "output_type": "stream",
          "name": "stderr",
          "text": [
            "Epoch 9/10 - Validation: 100%|██████████| 17/17 [00:16<00:00,  1.05it/s, loss=0.199]\n"
          ]
        },
        {
          "output_type": "stream",
          "name": "stdout",
          "text": [
            "Epoch [9/10] Validation Loss: 0.3043, Accuracy: 92.40%\n",
            "Current Learning Rate: 5e-05\n",
            "Model checkpoint saved!\n",
            "Epoch duration: 122.77 seconds\n",
            "\n"
          ]
        },
        {
          "output_type": "stream",
          "name": "stderr",
          "text": [
            "Epoch 10/10 - Training: 100%|██████████| 65/65 [01:47<00:00,  1.66s/it, loss=3.74]\n"
          ]
        },
        {
          "output_type": "stream",
          "name": "stdout",
          "text": [
            "\n",
            "Epoch [10/10] Training Loss: 0.0057, Accuracy: 99.95%\n"
          ]
        },
        {
          "output_type": "stream",
          "name": "stderr",
          "text": [
            "Epoch 10/10 - Validation: 100%|██████████| 17/17 [00:16<00:00,  1.05it/s, loss=0.149]"
          ]
        },
        {
          "output_type": "stream",
          "name": "stdout",
          "text": [
            "Epoch [10/10] Validation Loss: 0.3434, Accuracy: 92.20%\n",
            "Current Learning Rate: 5e-05\n",
            "Epoch duration: 124.07 seconds\n",
            "\n"
          ]
        },
        {
          "output_type": "stream",
          "name": "stderr",
          "text": [
            "\n"
          ]
        }
      ]
    },
    {
      "cell_type": "code",
      "source": [
        "# import time\n",
        "# import torch\n",
        "# import torch.nn as nn\n",
        "# import torch.nn.functional as F\n",
        "# import torch.optim as optim\n",
        "# from torchvision import models, transforms\n",
        "# from torch.optim.lr_scheduler import ReduceLROnPlateau\n",
        "# from tqdm import tqdm\n",
        "\n",
        "# #########################################\n",
        "# # Enhanced Data Augmentation (Milder Version)\n",
        "# #########################################\n",
        "# data_transforms = transforms.Compose([\n",
        "#     transforms.Resize((128, 128)),\n",
        "#     transforms.RandomHorizontalFlip(),\n",
        "#     transforms.RandomRotation(20),  # Reduced rotation range\n",
        "#     transforms.RandomCrop(128, padding=5),  # Reduced padding\n",
        "#     transforms.ColorJitter(brightness=0.3, contrast=0.3, saturation=0.3, hue=0.05),\n",
        "#     transforms.ToTensor(),\n",
        "#     transforms.Normalize([0.5, 0.5, 0.5], [0.5, 0.5, 0.5])\n",
        "# ])\n",
        "\n",
        "# #########################################\n",
        "# # Define ArcMarginProduct with Adjusted Hyperparameters\n",
        "# #########################################\n",
        "# class ArcMarginProduct(nn.Module):\n",
        "#     def __init__(self, in_features, out_features, s=30.0, m=0.35, easy_margin=False):\n",
        "#         super(ArcMarginProduct, self).__init__()\n",
        "#         self.in_features = in_features\n",
        "#         self.out_features = out_features\n",
        "#         self.s = s  # scale factor\n",
        "#         self.m = m  # angular margin (reduced from 0.50 to 0.35)\n",
        "#         self.weight = nn.Parameter(torch.FloatTensor(out_features, in_features))\n",
        "#         nn.init.xavier_uniform_(self.weight)\n",
        "#         self.easy_margin = easy_margin\n",
        "#         self.cos_m = torch.cos(torch.tensor(m))\n",
        "#         self.sin_m = torch.sin(torch.tensor(m))\n",
        "#         self.th = torch.cos(torch.tensor(torch.pi) - m)\n",
        "#         self.mm = torch.sin(torch.tensor(torch.pi) - m) * m\n",
        "\n",
        "#     def forward(self, input, label):\n",
        "#         cosine = F.linear(F.normalize(input), F.normalize(self.weight))\n",
        "#         sine = torch.sqrt(1.0 - torch.pow(cosine, 2) + 1e-6)\n",
        "#         phi = cosine * self.cos_m - sine * self.sin_m\n",
        "#         if self.easy_margin:\n",
        "#             phi = torch.where(cosine > 0, phi, cosine)\n",
        "#         else:\n",
        "#             phi = torch.where(cosine > self.th, phi, cosine - self.mm)\n",
        "#         one_hot = torch.zeros(cosine.size(), device=input.device)\n",
        "#         one_hot.scatter_(1, label.view(-1, 1).long(), 1)\n",
        "#         output = (one_hot * phi) + ((1.0 - one_hot) * cosine)\n",
        "#         output *= self.s\n",
        "#         return output\n",
        "\n",
        "# #########################################\n",
        "# # Transfer Learning: Pretrained ResNet18 with Fine-Tuning\n",
        "# #########################################\n",
        "# num_classes = 31  # Adjust based on your dataset\n",
        "# device = torch.device(\"cuda\" if torch.cuda.is_available() else \"cpu\")\n",
        "\n",
        "# # Load a pretrained ResNet18 model (using weights= parameter to avoid deprecation warnings)\n",
        "# pretrained_model = models.resnet18(weights=models.ResNet18_Weights.IMAGENET1K_V1)\n",
        "\n",
        "# # Freeze all layers first\n",
        "# for param in pretrained_model.parameters():\n",
        "#     param.requires_grad = False\n",
        "\n",
        "# # Unfreeze the last residual block (layer4) for fine-tuning\n",
        "# for param in pretrained_model.layer4.parameters():\n",
        "#     param.requires_grad = True\n",
        "\n",
        "# # Replace the final fully connected layer to output a 512-dimensional feature vector\n",
        "# in_features = pretrained_model.fc.in_features\n",
        "# pretrained_model.fc = nn.Linear(in_features, 512)\n",
        "# # Ensure the new fc layer is trainable\n",
        "# for param in pretrained_model.fc.parameters():\n",
        "#     param.requires_grad = True\n",
        "\n",
        "# #########################################\n",
        "# # Combine Backbone with Adjusted ArcFace Layer\n",
        "# #########################################\n",
        "# class FaceRecognitionModel(nn.Module):\n",
        "#     def __init__(self, backbone, feature_dim, num_classes, s=30.0, m=0.35):\n",
        "#         super(FaceRecognitionModel, self).__init__()\n",
        "#         self.backbone = backbone\n",
        "#         self.arc_margin = ArcMarginProduct(feature_dim, num_classes, s=s, m=m, easy_margin=False)\n",
        "\n",
        "#     def forward(self, x, label=None):\n",
        "#         features = self.backbone(x)  # shape: [batch, feature_dim]\n",
        "#         if label is not None:\n",
        "#             output = self.arc_margin(features, label)\n",
        "#         else:\n",
        "#             output = features\n",
        "#         return output\n",
        "\n",
        "# model = FaceRecognitionModel(pretrained_model, feature_dim=512, num_classes=num_classes, s=30.0, m=0.35)\n",
        "# model = model.to(device)\n",
        "\n",
        "# #########################################\n",
        "# # Define Loss, Optimizer, and Scheduler\n",
        "# #########################################\n",
        "# criterion = nn.CrossEntropyLoss()\n",
        "# # Use a lower learning rate for fine-tuning\n",
        "# optimizer = optim.Adam(filter(lambda p: p.requires_grad, model.parameters()), lr=0.0001, weight_decay=1e-5)\n",
        "# scheduler = ReduceLROnPlateau(optimizer, mode='min', factor=0.5, patience=3)\n",
        "\n",
        "# #########################################\n",
        "# # Training Loop with Extended Patience\n",
        "# #########################################\n",
        "# best_val_loss = float('inf')\n",
        "# num_epochs = 30  # Increase number of epochs for fine-tuning\n",
        "# early_stop_patience = 10  # Increase patience for early stopping\n",
        "# epochs_no_improve = 0\n",
        "\n",
        "# train_losses = []\n",
        "# val_losses = []\n",
        "# train_accuracies = []\n",
        "# val_accuracies = []\n",
        "\n",
        "# for epoch in range(num_epochs):\n",
        "#     epoch_start_time = time.time()\n",
        "\n",
        "#     # ----- Training Phase -----\n",
        "#     model.train()\n",
        "#     running_loss = 0.0\n",
        "#     correct = 0\n",
        "#     total = 0\n",
        "\n",
        "#     train_bar = tqdm(train_loader, desc=f\"Epoch {epoch+1}/{num_epochs} - Training\")\n",
        "#     for images, labels in train_bar:\n",
        "#         images, labels = images.to(device), labels.to(device)\n",
        "#         optimizer.zero_grad()\n",
        "\n",
        "#         outputs = model(images, labels)\n",
        "#         loss = criterion(outputs, labels)\n",
        "#         loss.backward()\n",
        "\n",
        "#         torch.nn.utils.clip_grad_norm_(model.parameters(), max_norm=2.0)\n",
        "#         optimizer.step()\n",
        "\n",
        "#         running_loss += loss.item() * images.size(0)\n",
        "#         _, predicted = torch.max(outputs.data, 1)\n",
        "#         total += labels.size(0)\n",
        "#         correct += (predicted == labels).sum().item()\n",
        "\n",
        "#         train_bar.set_postfix(loss=loss.item())\n",
        "\n",
        "#     epoch_loss = running_loss / len(train_dataset)\n",
        "#     epoch_accuracy = 100 * correct / total\n",
        "#     train_losses.append(epoch_loss)\n",
        "#     train_accuracies.append(epoch_accuracy)\n",
        "\n",
        "#     print(f\"\\nEpoch [{epoch+1}/{num_epochs}] Training Loss: {epoch_loss:.4f}, Accuracy: {epoch_accuracy:.2f}%\")\n",
        "\n",
        "#     # ----- Validation Phase -----\n",
        "#     model.eval()\n",
        "#     val_loss = 0.0\n",
        "#     correct_val = 0\n",
        "#     total_val = 0\n",
        "\n",
        "#     val_bar = tqdm(val_loader, desc=f\"Epoch {epoch+1}/{num_epochs} - Validation\")\n",
        "#     with torch.no_grad():\n",
        "#         for images, labels in val_bar:\n",
        "#             images, labels = images.to(device), labels.to(device)\n",
        "#             outputs = model(images, labels)\n",
        "#             loss = criterion(outputs, labels)\n",
        "#             val_loss += loss.item() * images.size(0)\n",
        "\n",
        "#             _, predicted = torch.max(outputs.data, 1)\n",
        "#             total_val += labels.size(0)\n",
        "#             correct_val += (predicted == labels).sum().item()\n",
        "#             val_bar.set_postfix(loss=loss.item())\n",
        "\n",
        "#     val_loss = val_loss / len(val_dataset)\n",
        "#     val_accuracy = 100 * correct_val / total_val\n",
        "#     val_losses.append(val_loss)\n",
        "#     val_accuracies.append(val_accuracy)\n",
        "\n",
        "#     print(f\"Epoch [{epoch+1}/{num_epochs}] Validation Loss: {val_loss:.4f}, Accuracy: {val_accuracy:.2f}%\")\n",
        "\n",
        "#     scheduler.step(val_loss)\n",
        "#     current_lr = optimizer.param_groups[0]['lr']\n",
        "#     print(f\"Current Learning Rate: {current_lr}\")\n",
        "\n",
        "#     if val_loss < best_val_loss:\n",
        "#         best_val_loss = val_loss\n",
        "#         torch.save(model.state_dict(), 'best_model.pth')\n",
        "#         print(\"Model checkpoint saved!\")\n",
        "#         epochs_no_improve = 0\n",
        "#     else:\n",
        "#         epochs_no_improve += 1\n",
        "\n",
        "#     if epochs_no_improve >= early_stop_patience:\n",
        "#         print(\"Early stopping triggered.\")\n",
        "#         break\n",
        "\n",
        "#     epoch_duration = time.time() - epoch_start_time\n",
        "#     print(f\"Epoch duration: {epoch_duration:.2f} seconds\\n\")\n"
      ],
      "metadata": {
        "colab": {
          "base_uri": "https://localhost:8080/"
        },
        "collapsed": true,
        "id": "4zJqiS15VjC9",
        "outputId": "70980a9b-d02d-48da-a14d-24bb399aadd4"
      },
      "execution_count": null,
      "outputs": [
        {
          "output_type": "stream",
          "name": "stderr",
          "text": [
            "Epoch 1/30 - Training: 100%|██████████| 65/65 [01:47<00:00,  1.65s/it, loss=15.7]\n"
          ]
        },
        {
          "output_type": "stream",
          "name": "stdout",
          "text": [
            "\n",
            "Epoch [1/30] Training Loss: 11.6306, Accuracy: 0.39%\n"
          ]
        },
        {
          "output_type": "stream",
          "name": "stderr",
          "text": [
            "Epoch 1/30 - Validation: 100%|██████████| 17/17 [00:16<00:00,  1.01it/s, loss=11.5]\n"
          ]
        },
        {
          "output_type": "stream",
          "name": "stdout",
          "text": [
            "Epoch [1/30] Validation Loss: 8.9091, Accuracy: 6.04%\n",
            "Current Learning Rate: 0.0001\n",
            "Model checkpoint saved!\n",
            "Epoch duration: 124.32 seconds\n",
            "\n"
          ]
        },
        {
          "output_type": "stream",
          "name": "stderr",
          "text": [
            "Epoch 2/30 - Training: 100%|██████████| 65/65 [01:47<00:00,  1.65s/it, loss=22.2]\n"
          ]
        },
        {
          "output_type": "stream",
          "name": "stdout",
          "text": [
            "\n",
            "Epoch [2/30] Training Loss: 5.2650, Accuracy: 23.82%\n"
          ]
        },
        {
          "output_type": "stream",
          "name": "stderr",
          "text": [
            "Epoch 2/30 - Validation: 100%|██████████| 17/17 [00:16<00:00,  1.02it/s, loss=7.56]\n"
          ]
        },
        {
          "output_type": "stream",
          "name": "stdout",
          "text": [
            "Epoch [2/30] Validation Loss: 5.4500, Accuracy: 32.75%\n",
            "Current Learning Rate: 0.0001\n",
            "Model checkpoint saved!\n",
            "Epoch duration: 124.37 seconds\n",
            "\n"
          ]
        },
        {
          "output_type": "stream",
          "name": "stderr",
          "text": [
            "Epoch 3/30 - Training: 100%|██████████| 65/65 [01:48<00:00,  1.66s/it, loss=19.9]\n"
          ]
        },
        {
          "output_type": "stream",
          "name": "stdout",
          "text": [
            "\n",
            "Epoch [3/30] Training Loss: 1.6118, Accuracy: 68.08%\n"
          ]
        },
        {
          "output_type": "stream",
          "name": "stderr",
          "text": [
            "Epoch 3/30 - Validation: 100%|██████████| 17/17 [00:16<00:00,  1.04it/s, loss=5.19]\n"
          ]
        },
        {
          "output_type": "stream",
          "name": "stdout",
          "text": [
            "Epoch [3/30] Validation Loss: 4.2247, Accuracy: 43.27%\n",
            "Current Learning Rate: 0.0001\n",
            "Model checkpoint saved!\n",
            "Epoch duration: 124.47 seconds\n",
            "\n"
          ]
        },
        {
          "output_type": "stream",
          "name": "stderr",
          "text": [
            "Epoch 4/30 - Training: 100%|██████████| 65/65 [01:46<00:00,  1.64s/it, loss=24.6]\n"
          ]
        },
        {
          "output_type": "stream",
          "name": "stdout",
          "text": [
            "\n",
            "Epoch [4/30] Training Loss: 0.3478, Accuracy: 91.07%\n"
          ]
        },
        {
          "output_type": "stream",
          "name": "stderr",
          "text": [
            "Epoch 4/30 - Validation: 100%|██████████| 17/17 [00:18<00:00,  1.07s/it, loss=7.65]\n"
          ]
        },
        {
          "output_type": "stream",
          "name": "stdout",
          "text": [
            "Epoch [4/30] Validation Loss: 3.7798, Accuracy: 49.90%\n",
            "Current Learning Rate: 0.0001\n",
            "Model checkpoint saved!\n",
            "Epoch duration: 125.07 seconds\n",
            "\n"
          ]
        },
        {
          "output_type": "stream",
          "name": "stderr",
          "text": [
            "Epoch 5/30 - Training: 100%|██████████| 65/65 [01:46<00:00,  1.64s/it, loss=11]\n"
          ]
        },
        {
          "output_type": "stream",
          "name": "stdout",
          "text": [
            "\n",
            "Epoch [5/30] Training Loss: 0.0619, Accuracy: 98.29%\n"
          ]
        },
        {
          "output_type": "stream",
          "name": "stderr",
          "text": [
            "Epoch 5/30 - Validation: 100%|██████████| 17/17 [00:16<00:00,  1.05it/s, loss=6.45]\n"
          ]
        },
        {
          "output_type": "stream",
          "name": "stdout",
          "text": [
            "Epoch [5/30] Validation Loss: 3.3428, Accuracy: 55.75%\n",
            "Current Learning Rate: 0.0001\n",
            "Model checkpoint saved!\n",
            "Epoch duration: 122.91 seconds\n",
            "\n"
          ]
        },
        {
          "output_type": "stream",
          "name": "stderr",
          "text": [
            "Epoch 6/30 - Training: 100%|██████████| 65/65 [01:48<00:00,  1.67s/it, loss=20.3]\n"
          ]
        },
        {
          "output_type": "stream",
          "name": "stdout",
          "text": [
            "\n",
            "Epoch [6/30] Training Loss: 0.0394, Accuracy: 99.22%\n"
          ]
        },
        {
          "output_type": "stream",
          "name": "stderr",
          "text": [
            "Epoch 6/30 - Validation: 100%|██████████| 17/17 [00:16<00:00,  1.03it/s, loss=0.0612]\n"
          ]
        },
        {
          "output_type": "stream",
          "name": "stdout",
          "text": [
            "Epoch [6/30] Validation Loss: 3.2159, Accuracy: 58.09%\n",
            "Current Learning Rate: 0.0001\n",
            "Model checkpoint saved!\n",
            "Epoch duration: 125.39 seconds\n",
            "\n"
          ]
        },
        {
          "output_type": "stream",
          "name": "stderr",
          "text": [
            "Epoch 7/30 - Training: 100%|██████████| 65/65 [01:46<00:00,  1.64s/it, loss=18.4]\n"
          ]
        },
        {
          "output_type": "stream",
          "name": "stdout",
          "text": [
            "\n",
            "Epoch [7/30] Training Loss: 0.0316, Accuracy: 99.41%\n"
          ]
        },
        {
          "output_type": "stream",
          "name": "stderr",
          "text": [
            "Epoch 7/30 - Validation: 100%|██████████| 17/17 [00:17<00:00,  1.00s/it, loss=0.035]\n"
          ]
        },
        {
          "output_type": "stream",
          "name": "stdout",
          "text": [
            "Epoch [7/30] Validation Loss: 3.2184, Accuracy: 58.28%\n",
            "Current Learning Rate: 0.0001\n",
            "Epoch duration: 123.43 seconds\n",
            "\n"
          ]
        },
        {
          "output_type": "stream",
          "name": "stderr",
          "text": [
            "Epoch 8/30 - Training: 100%|██████████| 65/65 [01:47<00:00,  1.65s/it, loss=18.3]\n"
          ]
        },
        {
          "output_type": "stream",
          "name": "stdout",
          "text": [
            "\n",
            "Epoch [8/30] Training Loss: 0.0477, Accuracy: 98.83%\n"
          ]
        },
        {
          "output_type": "stream",
          "name": "stderr",
          "text": [
            "Epoch 8/30 - Validation: 100%|██████████| 17/17 [00:16<00:00,  1.04it/s, loss=0.186]\n"
          ]
        },
        {
          "output_type": "stream",
          "name": "stdout",
          "text": [
            "Epoch [8/30] Validation Loss: 3.0523, Accuracy: 59.65%\n",
            "Current Learning Rate: 0.0001\n",
            "Model checkpoint saved!\n",
            "Epoch duration: 123.83 seconds\n",
            "\n"
          ]
        },
        {
          "output_type": "stream",
          "name": "stderr",
          "text": [
            "Epoch 9/30 - Training: 100%|██████████| 65/65 [01:48<00:00,  1.67s/it, loss=13.8]\n"
          ]
        },
        {
          "output_type": "stream",
          "name": "stdout",
          "text": [
            "\n",
            "Epoch [9/30] Training Loss: 0.0182, Accuracy: 99.61%\n"
          ]
        },
        {
          "output_type": "stream",
          "name": "stderr",
          "text": [
            "Epoch 9/30 - Validation: 100%|██████████| 17/17 [00:16<00:00,  1.04it/s, loss=5.74]\n"
          ]
        },
        {
          "output_type": "stream",
          "name": "stdout",
          "text": [
            "Epoch [9/30] Validation Loss: 3.0503, Accuracy: 62.77%\n",
            "Current Learning Rate: 0.0001\n",
            "Model checkpoint saved!\n",
            "Epoch duration: 125.04 seconds\n",
            "\n"
          ]
        },
        {
          "output_type": "stream",
          "name": "stderr",
          "text": [
            "Epoch 10/30 - Training: 100%|██████████| 65/65 [01:46<00:00,  1.63s/it, loss=21.9]\n"
          ]
        },
        {
          "output_type": "stream",
          "name": "stdout",
          "text": [
            "\n",
            "Epoch [10/30] Training Loss: 0.0217, Accuracy: 99.61%\n"
          ]
        },
        {
          "output_type": "stream",
          "name": "stderr",
          "text": [
            "Epoch 10/30 - Validation: 100%|██████████| 17/17 [00:17<00:00,  1.02s/it, loss=0.285]\n"
          ]
        },
        {
          "output_type": "stream",
          "name": "stdout",
          "text": [
            "Epoch [10/30] Validation Loss: 2.9637, Accuracy: 65.11%\n",
            "Current Learning Rate: 0.0001\n",
            "Model checkpoint saved!\n",
            "Epoch duration: 123.71 seconds\n",
            "\n"
          ]
        },
        {
          "output_type": "stream",
          "name": "stderr",
          "text": [
            "Epoch 11/30 - Training: 100%|██████████| 65/65 [01:48<00:00,  1.67s/it, loss=11.7]\n"
          ]
        },
        {
          "output_type": "stream",
          "name": "stdout",
          "text": [
            "\n",
            "Epoch [11/30] Training Loss: 0.0133, Accuracy: 99.80%\n"
          ]
        },
        {
          "output_type": "stream",
          "name": "stderr",
          "text": [
            "Epoch 11/30 - Validation: 100%|██████████| 17/17 [00:16<00:00,  1.04it/s, loss=1.94]\n"
          ]
        },
        {
          "output_type": "stream",
          "name": "stdout",
          "text": [
            "Epoch [11/30] Validation Loss: 2.9858, Accuracy: 61.99%\n",
            "Current Learning Rate: 0.0001\n",
            "Epoch duration: 124.72 seconds\n",
            "\n"
          ]
        },
        {
          "output_type": "stream",
          "name": "stderr",
          "text": [
            "Epoch 12/30 - Training: 100%|██████████| 65/65 [01:48<00:00,  1.67s/it, loss=23.6]\n"
          ]
        },
        {
          "output_type": "stream",
          "name": "stdout",
          "text": [
            "\n",
            "Epoch [12/30] Training Loss: 0.0198, Accuracy: 99.80%\n"
          ]
        },
        {
          "output_type": "stream",
          "name": "stderr",
          "text": [
            "Epoch 12/30 - Validation: 100%|██████████| 17/17 [00:16<00:00,  1.04it/s, loss=0.0851]\n"
          ]
        },
        {
          "output_type": "stream",
          "name": "stdout",
          "text": [
            "Epoch [12/30] Validation Loss: 3.0207, Accuracy: 62.18%\n",
            "Current Learning Rate: 0.0001\n",
            "Epoch duration: 124.60 seconds\n",
            "\n"
          ]
        },
        {
          "output_type": "stream",
          "name": "stderr",
          "text": [
            "Epoch 13/30 - Training: 100%|██████████| 65/65 [01:45<00:00,  1.62s/it, loss=18.2]\n"
          ]
        },
        {
          "output_type": "stream",
          "name": "stdout",
          "text": [
            "\n",
            "Epoch [13/30] Training Loss: 0.0145, Accuracy: 99.80%\n"
          ]
        },
        {
          "output_type": "stream",
          "name": "stderr",
          "text": [
            "Epoch 13/30 - Validation: 100%|██████████| 17/17 [00:16<00:00,  1.01it/s, loss=2.93]\n"
          ]
        },
        {
          "output_type": "stream",
          "name": "stdout",
          "text": [
            "Epoch [13/30] Validation Loss: 2.9000, Accuracy: 63.94%\n",
            "Current Learning Rate: 0.0001\n",
            "Model checkpoint saved!\n",
            "Epoch duration: 122.50 seconds\n",
            "\n"
          ]
        },
        {
          "output_type": "stream",
          "name": "stderr",
          "text": [
            "Epoch 14/30 - Training: 100%|██████████| 65/65 [01:47<00:00,  1.65s/it, loss=19.1]\n"
          ]
        },
        {
          "output_type": "stream",
          "name": "stdout",
          "text": [
            "\n",
            "Epoch [14/30] Training Loss: 0.0143, Accuracy: 99.76%\n"
          ]
        },
        {
          "output_type": "stream",
          "name": "stderr",
          "text": [
            "Epoch 14/30 - Validation: 100%|██████████| 17/17 [00:16<00:00,  1.04it/s, loss=3.8]\n"
          ]
        },
        {
          "output_type": "stream",
          "name": "stdout",
          "text": [
            "Epoch [14/30] Validation Loss: 2.8167, Accuracy: 66.47%\n",
            "Current Learning Rate: 0.0001\n",
            "Model checkpoint saved!\n",
            "Epoch duration: 123.69 seconds\n",
            "\n"
          ]
        },
        {
          "output_type": "stream",
          "name": "stderr",
          "text": [
            "Epoch 15/30 - Training: 100%|██████████| 65/65 [01:50<00:00,  1.69s/it, loss=14.5]\n"
          ]
        },
        {
          "output_type": "stream",
          "name": "stdout",
          "text": [
            "\n",
            "Epoch [15/30] Training Loss: 0.0167, Accuracy: 99.80%\n"
          ]
        },
        {
          "output_type": "stream",
          "name": "stderr",
          "text": [
            "Epoch 15/30 - Validation: 100%|██████████| 17/17 [00:16<00:00,  1.04it/s, loss=6.96]\n"
          ]
        },
        {
          "output_type": "stream",
          "name": "stdout",
          "text": [
            "Epoch [15/30] Validation Loss: 3.0270, Accuracy: 66.47%\n",
            "Current Learning Rate: 0.0001\n",
            "Epoch duration: 126.37 seconds\n",
            "\n"
          ]
        },
        {
          "output_type": "stream",
          "name": "stderr",
          "text": [
            "Epoch 16/30 - Training: 100%|██████████| 65/65 [01:46<00:00,  1.63s/it, loss=24.2]\n"
          ]
        },
        {
          "output_type": "stream",
          "name": "stdout",
          "text": [
            "\n",
            "Epoch [16/30] Training Loss: 0.0247, Accuracy: 99.61%\n"
          ]
        },
        {
          "output_type": "stream",
          "name": "stderr",
          "text": [
            "Epoch 16/30 - Validation: 100%|██████████| 17/17 [00:17<00:00,  1.02s/it, loss=1.35]\n"
          ]
        },
        {
          "output_type": "stream",
          "name": "stdout",
          "text": [
            "Epoch [16/30] Validation Loss: 2.8017, Accuracy: 69.01%\n",
            "Current Learning Rate: 0.0001\n",
            "Model checkpoint saved!\n",
            "Epoch duration: 123.50 seconds\n",
            "\n"
          ]
        },
        {
          "output_type": "stream",
          "name": "stderr",
          "text": [
            "Epoch 17/30 - Training: 100%|██████████| 65/65 [01:47<00:00,  1.66s/it, loss=16.5]\n"
          ]
        },
        {
          "output_type": "stream",
          "name": "stdout",
          "text": [
            "\n",
            "Epoch [17/30] Training Loss: 0.0172, Accuracy: 99.66%\n"
          ]
        },
        {
          "output_type": "stream",
          "name": "stderr",
          "text": [
            "Epoch 17/30 - Validation: 100%|██████████| 17/17 [00:16<00:00,  1.04it/s, loss=3.99]\n"
          ]
        },
        {
          "output_type": "stream",
          "name": "stdout",
          "text": [
            "Epoch [17/30] Validation Loss: 2.7748, Accuracy: 67.64%\n",
            "Current Learning Rate: 0.0001\n",
            "Model checkpoint saved!\n",
            "Epoch duration: 124.26 seconds\n",
            "\n"
          ]
        },
        {
          "output_type": "stream",
          "name": "stderr",
          "text": [
            "Epoch 18/30 - Training: 100%|██████████| 65/65 [01:48<00:00,  1.67s/it, loss=12.9]\n"
          ]
        },
        {
          "output_type": "stream",
          "name": "stdout",
          "text": [
            "\n",
            "Epoch [18/30] Training Loss: 0.0167, Accuracy: 99.66%\n"
          ]
        },
        {
          "output_type": "stream",
          "name": "stderr",
          "text": [
            "Epoch 18/30 - Validation: 100%|██████████| 17/17 [00:16<00:00,  1.04it/s, loss=0.0275]\n"
          ]
        },
        {
          "output_type": "stream",
          "name": "stdout",
          "text": [
            "Epoch [18/30] Validation Loss: 2.7821, Accuracy: 65.69%\n",
            "Current Learning Rate: 0.0001\n",
            "Epoch duration: 124.62 seconds\n",
            "\n"
          ]
        },
        {
          "output_type": "stream",
          "name": "stderr",
          "text": [
            "Epoch 19/30 - Training: 100%|██████████| 65/65 [01:46<00:00,  1.64s/it, loss=20.6]\n"
          ]
        },
        {
          "output_type": "stream",
          "name": "stdout",
          "text": [
            "\n",
            "Epoch [19/30] Training Loss: 0.0158, Accuracy: 99.80%\n"
          ]
        },
        {
          "output_type": "stream",
          "name": "stderr",
          "text": [
            "Epoch 19/30 - Validation: 100%|██████████| 17/17 [00:17<00:00,  1.02s/it, loss=0.0361]\n"
          ]
        },
        {
          "output_type": "stream",
          "name": "stdout",
          "text": [
            "Epoch [19/30] Validation Loss: 2.7314, Accuracy: 66.47%\n",
            "Current Learning Rate: 0.0001\n",
            "Model checkpoint saved!\n",
            "Epoch duration: 123.80 seconds\n",
            "\n"
          ]
        },
        {
          "output_type": "stream",
          "name": "stderr",
          "text": [
            "Epoch 20/30 - Training: 100%|██████████| 65/65 [01:48<00:00,  1.67s/it, loss=8.48]\n"
          ]
        },
        {
          "output_type": "stream",
          "name": "stdout",
          "text": [
            "\n",
            "Epoch [20/30] Training Loss: 0.0131, Accuracy: 99.56%\n"
          ]
        },
        {
          "output_type": "stream",
          "name": "stderr",
          "text": [
            "Epoch 20/30 - Validation: 100%|██████████| 17/17 [00:16<00:00,  1.04it/s, loss=0.743]\n"
          ]
        },
        {
          "output_type": "stream",
          "name": "stdout",
          "text": [
            "Epoch [20/30] Validation Loss: 2.9045, Accuracy: 67.06%\n",
            "Current Learning Rate: 0.0001\n",
            "Epoch duration: 124.53 seconds\n",
            "\n"
          ]
        },
        {
          "output_type": "stream",
          "name": "stderr",
          "text": [
            "Epoch 21/30 - Training: 100%|██████████| 65/65 [01:48<00:00,  1.67s/it, loss=20.1]\n"
          ]
        },
        {
          "output_type": "stream",
          "name": "stdout",
          "text": [
            "\n",
            "Epoch [21/30] Training Loss: 0.0237, Accuracy: 99.51%\n"
          ]
        },
        {
          "output_type": "stream",
          "name": "stderr",
          "text": [
            "Epoch 21/30 - Validation: 100%|██████████| 17/17 [00:16<00:00,  1.05it/s, loss=3.35]\n"
          ]
        },
        {
          "output_type": "stream",
          "name": "stdout",
          "text": [
            "Epoch [21/30] Validation Loss: 2.9236, Accuracy: 65.50%\n",
            "Current Learning Rate: 0.0001\n",
            "Epoch duration: 124.87 seconds\n",
            "\n"
          ]
        },
        {
          "output_type": "stream",
          "name": "stderr",
          "text": [
            "Epoch 22/30 - Training: 100%|██████████| 65/65 [01:47<00:00,  1.65s/it, loss=20.6]\n"
          ]
        },
        {
          "output_type": "stream",
          "name": "stdout",
          "text": [
            "\n",
            "Epoch [22/30] Training Loss: 0.0190, Accuracy: 99.61%\n"
          ]
        },
        {
          "output_type": "stream",
          "name": "stderr",
          "text": [
            "Epoch 22/30 - Validation: 100%|██████████| 17/17 [00:17<00:00,  1.01s/it, loss=3.79]\n"
          ]
        },
        {
          "output_type": "stream",
          "name": "stdout",
          "text": [
            "Epoch [22/30] Validation Loss: 2.7763, Accuracy: 68.62%\n",
            "Current Learning Rate: 0.0001\n",
            "Epoch duration: 124.83 seconds\n",
            "\n"
          ]
        },
        {
          "output_type": "stream",
          "name": "stderr",
          "text": [
            "Epoch 23/30 - Training: 100%|██████████| 65/65 [01:47<00:00,  1.66s/it, loss=19.9]\n"
          ]
        },
        {
          "output_type": "stream",
          "name": "stdout",
          "text": [
            "\n",
            "Epoch [23/30] Training Loss: 0.0443, Accuracy: 99.37%\n"
          ]
        },
        {
          "output_type": "stream",
          "name": "stderr",
          "text": [
            "Epoch 23/30 - Validation: 100%|██████████| 17/17 [00:16<00:00,  1.04it/s, loss=0.000566]\n"
          ]
        },
        {
          "output_type": "stream",
          "name": "stdout",
          "text": [
            "Epoch [23/30] Validation Loss: 2.7496, Accuracy: 69.98%\n",
            "Current Learning Rate: 5e-05\n",
            "Epoch duration: 123.97 seconds\n",
            "\n"
          ]
        },
        {
          "output_type": "stream",
          "name": "stderr",
          "text": [
            "Epoch 24/30 - Training: 100%|██████████| 65/65 [01:49<00:00,  1.69s/it, loss=19.4]\n"
          ]
        },
        {
          "output_type": "stream",
          "name": "stdout",
          "text": [
            "\n",
            "Epoch [24/30] Training Loss: 0.0177, Accuracy: 99.80%\n"
          ]
        },
        {
          "output_type": "stream",
          "name": "stderr",
          "text": [
            "Epoch 24/30 - Validation: 100%|██████████| 17/17 [00:16<00:00,  1.03it/s, loss=0.799]\n"
          ]
        },
        {
          "output_type": "stream",
          "name": "stdout",
          "text": [
            "Epoch [24/30] Validation Loss: 2.5773, Accuracy: 70.57%\n",
            "Current Learning Rate: 5e-05\n",
            "Model checkpoint saved!\n",
            "Epoch duration: 126.54 seconds\n",
            "\n"
          ]
        },
        {
          "output_type": "stream",
          "name": "stderr",
          "text": [
            "Epoch 25/30 - Training: 100%|██████████| 65/65 [01:49<00:00,  1.68s/it, loss=21.5]\n"
          ]
        },
        {
          "output_type": "stream",
          "name": "stdout",
          "text": [
            "\n",
            "Epoch [25/30] Training Loss: 0.0164, Accuracy: 99.80%\n"
          ]
        },
        {
          "output_type": "stream",
          "name": "stderr",
          "text": [
            "Epoch 25/30 - Validation: 100%|██████████| 17/17 [00:17<00:00,  1.02s/it, loss=0.588]\n"
          ]
        },
        {
          "output_type": "stream",
          "name": "stdout",
          "text": [
            "Epoch [25/30] Validation Loss: 2.5606, Accuracy: 70.18%\n",
            "Current Learning Rate: 5e-05\n",
            "Model checkpoint saved!\n",
            "Epoch duration: 126.87 seconds\n",
            "\n"
          ]
        },
        {
          "output_type": "stream",
          "name": "stderr",
          "text": [
            "Epoch 26/30 - Training: 100%|██████████| 65/65 [01:46<00:00,  1.64s/it, loss=18.2]\n"
          ]
        },
        {
          "output_type": "stream",
          "name": "stdout",
          "text": [
            "\n",
            "Epoch [26/30] Training Loss: 0.0100, Accuracy: 99.90%\n"
          ]
        },
        {
          "output_type": "stream",
          "name": "stderr",
          "text": [
            "Epoch 26/30 - Validation: 100%|██████████| 17/17 [00:17<00:00,  1.02s/it, loss=1.11]\n"
          ]
        },
        {
          "output_type": "stream",
          "name": "stdout",
          "text": [
            "Epoch [26/30] Validation Loss: 2.4130, Accuracy: 71.54%\n",
            "Current Learning Rate: 5e-05\n",
            "Model checkpoint saved!\n",
            "Epoch duration: 123.81 seconds\n",
            "\n"
          ]
        },
        {
          "output_type": "stream",
          "name": "stderr",
          "text": [
            "Epoch 27/30 - Training: 100%|██████████| 65/65 [01:47<00:00,  1.65s/it, loss=17.6]\n"
          ]
        },
        {
          "output_type": "stream",
          "name": "stdout",
          "text": [
            "\n",
            "Epoch [27/30] Training Loss: 0.0106, Accuracy: 99.90%\n"
          ]
        },
        {
          "output_type": "stream",
          "name": "stderr",
          "text": [
            "Epoch 27/30 - Validation: 100%|██████████| 17/17 [00:16<00:00,  1.04it/s, loss=0.118]\n"
          ]
        },
        {
          "output_type": "stream",
          "name": "stdout",
          "text": [
            "Epoch [27/30] Validation Loss: 2.3808, Accuracy: 71.15%\n",
            "Current Learning Rate: 5e-05\n",
            "Model checkpoint saved!\n",
            "Epoch duration: 123.48 seconds\n",
            "\n"
          ]
        },
        {
          "output_type": "stream",
          "name": "stderr",
          "text": [
            "Epoch 28/30 - Training: 100%|██████████| 65/65 [01:46<00:00,  1.64s/it, loss=20.9]\n"
          ]
        },
        {
          "output_type": "stream",
          "name": "stdout",
          "text": [
            "\n",
            "Epoch [28/30] Training Loss: 0.0110, Accuracy: 99.90%\n"
          ]
        },
        {
          "output_type": "stream",
          "name": "stderr",
          "text": [
            "Epoch 28/30 - Validation: 100%|██████████| 17/17 [00:17<00:00,  1.02s/it, loss=0.143]\n"
          ]
        },
        {
          "output_type": "stream",
          "name": "stdout",
          "text": [
            "Epoch [28/30] Validation Loss: 2.3871, Accuracy: 71.35%\n",
            "Current Learning Rate: 5e-05\n",
            "Epoch duration: 124.08 seconds\n",
            "\n"
          ]
        },
        {
          "output_type": "stream",
          "name": "stderr",
          "text": [
            "Epoch 29/30 - Training: 100%|██████████| 65/65 [01:47<00:00,  1.66s/it, loss=18.1]\n"
          ]
        },
        {
          "output_type": "stream",
          "name": "stdout",
          "text": [
            "\n",
            "Epoch [29/30] Training Loss: 0.0104, Accuracy: 99.90%\n"
          ]
        },
        {
          "output_type": "stream",
          "name": "stderr",
          "text": [
            "Epoch 29/30 - Validation: 100%|██████████| 17/17 [00:16<00:00,  1.02it/s, loss=0.157]\n"
          ]
        },
        {
          "output_type": "stream",
          "name": "stdout",
          "text": [
            "Epoch [29/30] Validation Loss: 2.4908, Accuracy: 70.96%\n",
            "Current Learning Rate: 5e-05\n",
            "Epoch duration: 124.74 seconds\n",
            "\n"
          ]
        },
        {
          "output_type": "stream",
          "name": "stderr",
          "text": [
            "Epoch 30/30 - Training: 100%|██████████| 65/65 [01:48<00:00,  1.67s/it, loss=24.5]\n"
          ]
        },
        {
          "output_type": "stream",
          "name": "stdout",
          "text": [
            "\n",
            "Epoch [30/30] Training Loss: 0.0238, Accuracy: 99.66%\n"
          ]
        },
        {
          "output_type": "stream",
          "name": "stderr",
          "text": [
            "Epoch 30/30 - Validation: 100%|██████████| 17/17 [00:17<00:00,  1.02s/it, loss=0.839]"
          ]
        },
        {
          "output_type": "stream",
          "name": "stdout",
          "text": [
            "Epoch [30/30] Validation Loss: 2.3659, Accuracy: 71.54%\n",
            "Current Learning Rate: 5e-05\n",
            "Model checkpoint saved!\n",
            "Epoch duration: 126.10 seconds\n",
            "\n"
          ]
        },
        {
          "output_type": "stream",
          "name": "stderr",
          "text": [
            "\n"
          ]
        }
      ]
    }
  ]
}